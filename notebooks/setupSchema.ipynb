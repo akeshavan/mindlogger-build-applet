{
 "cells": [
  {
   "cell_type": "markdown",
   "metadata": {},
   "source": [
    "# MindLogger Survey Setup\n",
    "\n",
    "MindLogger is a mobile application for survey data collection, including voice, video, and drawing. We are very much in the development stage, so here are temporary instructions to set up your own MindLogger survey.\n",
    "\n",
    "One main purpose of the MindLogger project is to promote reusability of individual survey questions. This way, if two people, or studies, collect data from similar questions, the data can easily be combined.\n",
    "\n",
    "In order for this to work, we must complete the following steps:\n",
    "\n",
    "1. Create a set of surveys (called an applet) following our schema, and post this survey to GitHub\n",
    "2. Import your survey on the Mindlogger admin panel, and set your notification schedule\n",
    "3. Download the mindlogger app to your iOS or Android device\n",
    "\n",
    "Steps:\n",
    "\n",
    "1. `git clone https://github.com/akeshavan/mindlogger-build-applet`\n",
    "2. create a new github repository to host your files\n",
    "3. get a [github personal access token](https://help.github.com/en/articles/creating-a-personal-access-token-for-the-command-line) with repo scope and save it as a system variable called \"GH_TOKEN\" `export GH_TOKEN=`\n",
    "4. run `python setup.py install` at the root of this repo (or `python setup.py develop`) to install this package\n",
    "5. Open this notebook with Python3 on your computer\n",
    "6. in your github repository, make the **\"master\"** branch the one that renders to github pages. Also click the **enforce https** checkbox:\n",
    "\n",
    "<img src=\"./githubpagesSettings.png\" alt=\"drawing\" width=\"50%\"/>\n",
    "\n",
    "\n",
    "\n",
    "Our goal is to be able to set up a MindLogger applet without any programming knowledge. But for now, this is the best way."
   ]
  },
  {
   "cell_type": "code",
   "execution_count": 1,
   "metadata": {},
   "outputs": [],
   "source": [
    "import mindlogger_build_applet as mba"
   ]
  },
  {
   "cell_type": "code",
   "execution_count": 2,
   "metadata": {},
   "outputs": [],
   "source": [
    "q1 = mba.Radio(\n",
    "    username=\"akeshavan\",\n",
    "    repo=\"openhumans-mindlogger-survey\",\n",
    "    cname=\"anisha.pizza\", # this is optional. Since all my github pages are from anisha.pizza, i need to include this.\n",
    "    item_id='hangryNow',\n",
    "    prefLabel=\"asking if i'm hangry now\",\n",
    "    altLabel=\"hangry\",\n",
    "    description=\"asking if the user is hangry, yes or no\",\n",
    "    question=\"are you hangry right now?\",\n",
    "    responseOptions={\n",
    "        'minValue': 0,\n",
    "        'maxValue': 1,\n",
    "        'required': True,\n",
    "        'type': 'xsd:boolean',\n",
    "        'choices': [\n",
    "            {\n",
    "                'name': 'Yes',\n",
    "                'value': 1,\n",
    "            },\n",
    "            {\n",
    "                'name': 'No',\n",
    "                'value': 0,\n",
    "            },\n",
    "        ]\n",
    "    }\n",
    ")\n",
    "\n",
    "q2 = mba.Radio(\n",
    "    username=\"akeshavan\",\n",
    "    repo=\"openhumans-mindlogger-survey\",\n",
    "    cname=\"anisha.pizza\",\n",
    "    item_id='ateWhen',\n",
    "    prefLabel=\"when you last ate\",\n",
    "    altLabel=\"ateWhen\",\n",
    "    description=\"How long ago did you last eat\",\n",
    "    question=\"How long ago did you last eat?\",\n",
    "    responseOptions={\n",
    "        'minValue': 0,\n",
    "        'maxValue': 3,\n",
    "        'required': True,\n",
    "        'type': 'xsd:boolean',\n",
    "        'choices': [\n",
    "            {\n",
    "                'name': 'Just now',\n",
    "                'value': 0,\n",
    "            },\n",
    "            {\n",
    "                'name': '1-2 hours ago',\n",
    "                'value': 1,\n",
    "            },\n",
    "            {\n",
    "                'name': '2-3 hours ago',\n",
    "                'value': 2,\n",
    "            },\n",
    "            {\n",
    "                'name': '3+ hours ago',\n",
    "                'value': 3,\n",
    "            },\n",
    "        ]\n",
    "    }\n",
    ")"
   ]
  },
  {
   "cell_type": "code",
   "execution_count": 3,
   "metadata": {},
   "outputs": [
    {
     "data": {
      "text/plain": [
       "'https://anisha.pizza/openhumans-mindlogger-survey/activities/hangryActivity_schema.jsonld'"
      ]
     },
     "execution_count": 3,
     "metadata": {},
     "output_type": "execute_result"
    }
   ],
   "source": [
    "activity1 = mba.Activity(\n",
    "                user=\"akeshavan\",\n",
    "                repo=\"openhumans-mindlogger-survey\",\n",
    "                # this is optional. Since all my github pages are from anisha.pizza, i need to include the cname.\n",
    "                cname=\"anisha.pizza\", \n",
    "                activity_id='hangryActivity',\n",
    "                prefLabel=\"hangryness activity\",\n",
    "                altLabel=\"hangryActivity\",\n",
    "                description=\"an activity that asks if you're hangry\"\n",
    "            )\n",
    "activity1.addItem(q1)\n",
    "\n",
    "# Make the second question conditional if the first question is answered true\n",
    "activity1.addItem(q2, \"hangryNow\")\n",
    "\n",
    "# post the activity to github\n",
    "activity1.postActivity()"
   ]
  },
  {
   "cell_type": "code",
   "execution_count": 4,
   "metadata": {},
   "outputs": [
    {
     "data": {
      "text/plain": [
       "'https://anisha.pizza/openhumans-mindlogger-survey/activitySets/hangryActivitySet/hangryActivitySet_schema.jsonld'"
      ]
     },
     "execution_count": 4,
     "metadata": {},
     "output_type": "execute_result"
    }
   ],
   "source": [
    "activitySet = mba.ActivitySet(\n",
    "                user=\"akeshavan\",\n",
    "                repo=\"openhumans-mindlogger-survey\",\n",
    "                cname=\"anisha.pizza\",\n",
    "                activitySet_id='hangryActivitySet',\n",
    "                prefLabel=\"hangryness activity set\",\n",
    "                altLabel=\"hangryActivity\",\n",
    "                description=\"an activitySet that asks if you're hangry, and what you ate and when\"\n",
    "              )\n",
    "\n",
    "# second argument is the label of the activity on the sidebar of mindlogger-web\n",
    "activitySet.addActivity(activity1, 'Hangry')\n",
    "activitySet.postActivitySet()"
   ]
  },
  {
   "cell_type": "code",
   "execution_count": 5,
   "metadata": {},
   "outputs": [
    {
     "data": {
      "text/html": [
       "\n",
       "            <p style=\"margin-bottom: 2em;\">\n",
       "                Preview your activity set at <a target=\"_blank\" href=\"https://schema-ui.anisha.pizza/#/activities/0?url=https://anisha.pizza/openhumans-mindlogger-survey/activitySets/hangryActivitySet/hangryActivitySet_schema.jsonld\">https://schema-ui.anisha.pizza/#/activities/0?url=https://anisha.pizza/openhumans-mindlogger-survey/activitySets/hangryActivitySet/hangryActivitySet_schema.jsonld</a>\n",
       "            </p>\n",
       "            <p>\n",
       "                <b>Turn OFF your browser cache if things aren't updating</b>\n",
       "            </p>\n",
       "        "
      ],
      "text/plain": [
       "<IPython.core.display.HTML object>"
      ]
     },
     "execution_count": 5,
     "metadata": {},
     "output_type": "execute_result"
    }
   ],
   "source": [
    "activitySet.preview()"
   ]
  },
  {
   "cell_type": "code",
   "execution_count": 6,
   "metadata": {},
   "outputs": [
    {
     "data": {
      "text/html": [
       "\n",
       "            <p style=\"margin-bottom: 2em;\">\n",
       "                Invite yourself to your applet on Mindlogger at <a target=\"_blank\" href=\"https://web.mindlogger.org/#/?inviteURL=https://anisha.pizza/openhumans-mindlogger-survey/activitySets/hangryActivitySet/hangryActivitySet_schema.jsonld\">https://web.mindlogger.org/#/?inviteURL=https://anisha.pizza/openhumans-mindlogger-survey/activitySets/hangryActivitySet/hangryActivitySet_schema.jsonld</a>\n",
       "            </p>\n",
       "            <p>\n",
       "                <b>Turn OFF your browser cache if things aren't updating</b>\n",
       "            </p>\n",
       "        "
      ],
      "text/plain": [
       "<IPython.core.display.HTML object>"
      ]
     },
     "execution_count": 6,
     "metadata": {},
     "output_type": "execute_result"
    }
   ],
   "source": [
    "activitySet.mindlogger()"
   ]
  }
 ],
 "metadata": {
  "kernelspec": {
   "display_name": "Python 3",
   "language": "python",
   "name": "python3"
  },
  "language_info": {
   "codemirror_mode": {
    "name": "ipython",
    "version": 3
   },
   "file_extension": ".py",
   "mimetype": "text/x-python",
   "name": "python",
   "nbconvert_exporter": "python",
   "pygments_lexer": "ipython3",
   "version": "3.6.7"
  }
 },
 "nbformat": 4,
 "nbformat_minor": 2
}
