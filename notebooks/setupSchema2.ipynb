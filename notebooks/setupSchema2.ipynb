{
 "cells": [
  {
   "cell_type": "markdown",
   "metadata": {},
   "source": [
    "# MindLogger Survey Setup\n",
    "\n",
    "MindLogger is a mobile application for survey data collection, including voice, video, and drawing. We are very much in the development stage, so here are temporary instructions to set up your own MindLogger survey.\n",
    "\n",
    "One main purpose of the MindLogger project is to promote reusability of individual survey questions. This way, if two people, or studies, collect data from similar questions, the data can easily be combined.\n",
    "\n",
    "In order for this to work, we must complete the following steps:\n",
    "\n",
    "1. Create a set of surveys (called an applet) following our schema, and post this survey to GitHub\n",
    "2. Import your survey on the Mindlogger web app\n",
    "3. On the admin panel, set your notification schedule\n",
    "4. Download the mindlogger app to your iOS or Android device\n",
    "\n",
    "Steps:\n",
    "\n",
    "1. `git clone https://github.com/akeshavan/mindlogger-build-applet`\n",
    "2. create a new github repository to host your files\n",
    "3. get a [github personal access token](https://help.github.com/en/articles/creating-a-personal-access-token-for-the-command-line) with repo scope and save it as a system variable called \"GH_TOKEN\" `export GH_TOKEN=`\n",
    "4. run `python setup.py install` at the root of this repo (or `python setup.py develop`) to install this package\n",
    "5. Open this notebook with Python3 on your computer\n",
    "6. in your github repository, make the **\"master\"** branch the one that renders to github pages. Also click the **enforce https** checkbox:\n",
    "\n",
    "<img src=\"./githubpagesSettings.png\" alt=\"drawing\" width=\"50%\"/>\n",
    "\n",
    "\n",
    "\n",
    "Our goal is to be able to set up a MindLogger applet without any programming knowledge. But for now, this is the best way."
   ]
  },
  {
   "cell_type": "code",
   "execution_count": 1,
   "metadata": {},
   "outputs": [],
   "source": [
    "import mindlogger_build_applet as mba"
   ]
  },
  {
   "cell_type": "markdown",
   "metadata": {},
   "source": [
    "First, let's set up the \"storage\". Two options:\n",
    "\n",
    "1. **GitHubStorage** - Read and write in a target repository using a GitHub access token.\n",
    "2. **LocalStorage** - Read and write in a local filesystem directory."
   ]
  },
  {
   "cell_type": "code",
   "execution_count": 2,
   "metadata": {},
   "outputs": [
    {
     "name": "stdout",
     "output_type": "stream",
     "text": [
      "Writing to: /home/mad/projects/mindlogger-surveys/ml-test-survey\n"
     ]
    }
   ],
   "source": [
    "# Setup for LocalStorage: define `repo_name` and `uri_base` and `local_dir` appropriately.\n",
    "\n",
    "repo_name = 'ml-test-survey'\n",
    "base_uri='https://www.github.com/madprime/{}/'.format(repo_name)\n",
    "\n",
    "import os\n",
    "from mindlogger_build_applet.utils import LocalStorage\n",
    "\n",
    "base_dir = os.getcwd()\n",
    "local_dir = os.path.join(base_dir, repo_name)\n",
    "if not os.path.exists(local_dir):\n",
    "    os.mkdir(local_dir)\n",
    "\n",
    "storage = LocalStorage(\n",
    "    local_dir=local_dir,\n",
    ")\n",
    "\n",
    "print(\"Writing to: {}\".format(local_dir))"
   ]
  },
  {
   "cell_type": "code",
   "execution_count": 3,
   "metadata": {},
   "outputs": [
    {
     "name": "stdout",
     "output_type": "stream",
     "text": [
      "hangryNow\n"
     ]
    }
   ],
   "source": [
    "q1 = mba.Radio(\n",
    "    # initialize with parameters needed for all nodes\n",
    "    node_id='hangryNow',\n",
    "    storage=storage,\n",
    "    base_uri=base_uri\n",
    ")\n",
    "\n",
    "q1.set_data(\n",
    "    # Radio setup\n",
    "    prefLabel=\"asking if i'm hangry now\",\n",
    "    altLabel=\"hangry\",\n",
    "    description=\"asking if the user is hangry, yes or no\",\n",
    "    question=\"are you hangry right now?\",\n",
    "    responseOptions={\n",
    "        'minValue': 0,\n",
    "        'maxValue': 1,\n",
    "        'required': True,\n",
    "        'type': 'xsd:boolean',\n",
    "        'choices': [\n",
    "            {\n",
    "                'name': 'Yes',\n",
    "                'value': 1,\n",
    "            },\n",
    "            {\n",
    "                'name': 'No',\n",
    "                'value': 0,\n",
    "            },\n",
    "        ]\n",
    "    }\n",
    ")\n",
    "\n",
    "q2 = mba.Radio(\n",
    "    node_id=\"ateWhen\",\n",
    "    storage=storage,\n",
    "    base_uri=base_uri\n",
    ")\n",
    "\n",
    "q2.set_data(\n",
    "    prefLabel=\"when you last ate\",\n",
    "    altLabel=\"ateWhen\",\n",
    "    description=\"How long ago did you last eat\",\n",
    "    question=\"How long ago did you last eat?\",\n",
    "    responseOptions={\n",
    "        'minValue': 0,\n",
    "        'maxValue': 3,\n",
    "        'required': True,\n",
    "        'type': 'xsd:boolean',\n",
    "        'choices': [\n",
    "            {\n",
    "                'name': 'Just now',\n",
    "                'value': 0,\n",
    "            },\n",
    "            {\n",
    "                'name': '1-2 hours ago',\n",
    "                'value': 1,\n",
    "            },\n",
    "            {\n",
    "                'name': '2-3 hours ago',\n",
    "                'value': 2,\n",
    "            },\n",
    "            {\n",
    "                'name': '3+ hours ago',\n",
    "                'value': 3,\n",
    "            },\n",
    "        ]\n",
    "    }\n",
    ")\n",
    "print(q1.data[\"@id\"])\n"
   ]
  },
  {
   "cell_type": "code",
   "execution_count": 4,
   "metadata": {},
   "outputs": [
    {
     "name": "stdout",
     "output_type": "stream",
     "text": [
      "https://www.github.com/madprime/ml-test-survey/items/hangryNow.jsonld\n",
      "https://www.github.com/madprime/ml-test-survey/items/ateWhen.jsonld\n",
      "hangryNow\n",
      "ateWhen\n"
     ]
    }
   ],
   "source": [
    "q1.write()\n",
    "q2.write()\n",
    "\n",
    "# These are predicted based on `base_uri` setting.\n",
    "print(q1.get_uri())\n",
    "print(q2.get_uri())\n",
    "\n",
    "print(q1.data[\"@id\"])\n",
    "print(q2.data[\"@id\"])"
   ]
  },
  {
   "cell_type": "code",
   "execution_count": 5,
   "metadata": {},
   "outputs": [],
   "source": [
    "activity1 = mba.Activity(\n",
    "    node_id=\"hangryActivity\",\n",
    "    storage=storage,\n",
    "    base_uri=base_uri,\n",
    ")\n",
    "\n",
    "activity1.set_data(\n",
    "                prefLabel=\"hangryness activity\",\n",
    "                altLabel=\"hangryActivity\",\n",
    "                description=\"an activity that asks if you're hangry\"\n",
    "            )\n",
    "activity1.setItem(q1)\n",
    "\n",
    "# Make the second question conditional if the first question is answered true\n",
    "activity1.setItem(q2, \"hangryNow\")\n",
    "\n",
    "activity1.write()\n",
    "activity1.context.write()"
   ]
  },
  {
   "cell_type": "code",
   "execution_count": 6,
   "metadata": {},
   "outputs": [],
   "source": [
    "activitySet = mba.ActivitySet(\n",
    "    node_id='hangryActivitySet',\n",
    "    storage=storage,\n",
    "    base_uri=base_uri,\n",
    ")\n",
    "\n",
    "activitySet.set_data(\n",
    "    prefLabel=\"hangryness activity set\",\n",
    "    altLabel=\"hangryActivity\",\n",
    "    description=\"an activitySet that asks if you're hangry, and what you ate and when\"\n",
    ")\n",
    "\n",
    "# second argument is the label of the activity on the sidebar of mindlogger-web\n",
    "activitySet.setActivity(activity1, 'Hangry')\n",
    "activitySet.write()\n",
    "activitySet.context.write()"
   ]
  },
  {
   "cell_type": "code",
   "execution_count": 7,
   "metadata": {},
   "outputs": [
    {
     "data": {
      "text/html": [
       "\n",
       "            <p style=\"margin-bottom: 2em;\">\n",
       "                Preview your activity set at <a target=\"_blank\" href=\"https://schema-ui.anisha.pizza/#/activities/0?url=https://www.github.com/madprime/ml-test-survey/activitySets/hangryActivitySet/hangryActivitySet_schema.jsonld\">https://schema-ui.anisha.pizza/#/activities/0?url=https://www.github.com/madprime/ml-test-survey/activitySets/hangryActivitySet/hangryActivitySet_schema.jsonld</a>\n",
       "            </p>\n",
       "            <p>\n",
       "                <b>Turn OFF your browser cache if things aren't updating</b>\n",
       "            </p>\n",
       "        "
      ],
      "text/plain": [
       "<IPython.core.display.HTML object>"
      ]
     },
     "execution_count": 7,
     "metadata": {},
     "output_type": "execute_result"
    }
   ],
   "source": [
    "activitySet.preview()"
   ]
  },
  {
   "cell_type": "code",
   "execution_count": 8,
   "metadata": {},
   "outputs": [
    {
     "data": {
      "text/html": [
       "\n",
       "            <p style=\"margin-bottom: 2em;\">\n",
       "                Invite yourself to your applet on Mindlogger at <a target=\"_blank\" href=\"https://web.mindlogger.org/#/?inviteURL=https://www.github.com/madprime/ml-test-survey/activitySets/hangryActivitySet/hangryActivitySet_schema.jsonld\">https://web.mindlogger.org/#/?inviteURL=https://www.github.com/madprime/ml-test-survey/activitySets/hangryActivitySet/hangryActivitySet_schema.jsonld</a>\n",
       "            </p>\n",
       "            <p>\n",
       "                <b>Turn OFF your browser cache if things aren't updating</b>\n",
       "            </p>\n",
       "        "
      ],
      "text/plain": [
       "<IPython.core.display.HTML object>"
      ]
     },
     "execution_count": 8,
     "metadata": {},
     "output_type": "execute_result"
    }
   ],
   "source": [
    "activitySet.mindlogger()"
   ]
  },
  {
   "cell_type": "markdown",
   "metadata": {},
   "source": [
    "At this point, you have added your applet to MindLogger via the web-interface. You can take your applet on the web interface, or you can take it on your phone.\n",
    "\n",
    "### Download MindLogger to your phone\n",
    "\n",
    "Follow the instructions on the mindlogger.org website for downloading to iOS or Android: https://mindlogger.org/download/\n",
    "\n",
    "\n",
    "### Setting up Notifications on mobile\n",
    "\n",
    "You can set up notifications on your phone through the MindLogger Admin panel: https://admin.mindlogger.org\n",
    "\n",
    "\n",
    "#### Step 1\n",
    "\n",
    "Set the server endpoint as https://api.mindlogger.org/api/v1 and then click `continue`\n",
    "\n",
    "<img src=\"./adminStep1.png\" alt=\"drawing\" width=\"75%\"/>\n",
    "\n",
    "#### Step 2\n",
    "\n",
    "Log into your mindlogger account, click `log in` and then `continue`\n",
    "\n",
    "<img src=\"./adminStep2.png\" alt=\"drawing\" width=\"75%\"/>\n",
    "\n",
    "#### Step 3\n",
    "\n",
    "Select your applet, by clicking the dropdown until the it is open and says `CURRENT APPLET` in red. This is a bug, but we will fix it eventually.\n",
    "\n",
    "<img src=\"./adminStep3.png\" alt=\"drawing\" width=\"75%\"/>\n",
    "\n",
    "#### Step 4\n",
    "\n",
    "Here is a google-maps like interface for scheduling. On the month view, set up an all day activity, and set the title to your applet. Then fill in the following fields highlighted in red. You can click the `+` sign (not shown) to add more notifications in a single day.\n",
    "\n",
    "<img src=\"./adminStep4.png\" alt=\"drawing\" width=\"75%\"/>\n",
    "\n",
    "note: the things crossed out in gray are not implemented yet.\n",
    "\n",
    "#### Step 5\n",
    "\n",
    "Save your schedule by clicking continue in the stepthrough. **This is how the schedule is saved** for right now.\n",
    "\n",
    "<img src=\"./adminStep5.png\" alt=\"drawing\" width=\"75%\"/>\n",
    "\n",
    "#### Step 6\n",
    "\n",
    "To load the notifications in your app, you need to **log out of mindlogger on your phone and log back in** to set up notifications. This is also a bug, and for now this workaround works.\n",
    "\n",
    "### Updating your applet\n",
    "\n",
    "As we build these applets, we need to test them out and then update them. To update your applet, you need to re-invite yourself on mindlogger-web (making sure the URL to the applet is the same), then redo the schedule, and log out and then log in to your applet. \n"
   ]
  },
  {
   "cell_type": "code",
   "execution_count": null,
   "metadata": {},
   "outputs": [],
   "source": []
  }
 ],
 "metadata": {
  "kernelspec": {
   "display_name": "Python 3",
   "language": "python",
   "name": "python3"
  },
  "language_info": {
   "codemirror_mode": {
    "name": "ipython",
    "version": 3
   },
   "file_extension": ".py",
   "mimetype": "text/x-python",
   "name": "python",
   "nbconvert_exporter": "python",
   "pygments_lexer": "ipython3",
   "version": "3.6.8"
  }
 },
 "nbformat": 4,
 "nbformat_minor": 2
}
